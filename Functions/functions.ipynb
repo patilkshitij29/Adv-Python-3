{
 "cells": [
  {
   "cell_type": "markdown",
   "id": "260895a6",
   "metadata": {},
   "source": [
    "# Functions"
   ]
  },
  {
   "cell_type": "code",
   "execution_count": 11,
   "id": "af5bb55e",
   "metadata": {},
   "outputs": [],
   "source": [
    "def add(x,y):\n",
    "    \"\"\"\n",
    "    this function takes two parameters as inputs and returns addition of both parameters.\n",
    "    \"\"\"\n",
    "    c = x+y\n",
    "    return c"
   ]
  },
  {
   "cell_type": "code",
   "execution_count": 12,
   "id": "4263fef3",
   "metadata": {},
   "outputs": [
    {
     "data": {
      "text/plain": [
       "80"
      ]
     },
     "execution_count": 12,
     "metadata": {},
     "output_type": "execute_result"
    }
   ],
   "source": [
    "a1 = add(35,45)\n",
    "a1"
   ]
  },
  {
   "cell_type": "code",
   "execution_count": 13,
   "id": "219c6729",
   "metadata": {},
   "outputs": [
    {
     "data": {
      "text/plain": [
       "144"
      ]
     },
     "execution_count": 13,
     "metadata": {},
     "output_type": "execute_result"
    }
   ],
   "source": [
    "add(55,89)"
   ]
  },
  {
   "cell_type": "markdown",
   "id": "8d6dd8a1",
   "metadata": {},
   "source": [
    "## Variadic Functions"
   ]
  },
  {
   "cell_type": "code",
   "execution_count": 14,
   "id": "eb15199e",
   "metadata": {},
   "outputs": [],
   "source": [
    "def add(*args):\n",
    "    for i in args:\n",
    "        print(i)"
   ]
  },
  {
   "cell_type": "code",
   "execution_count": 15,
   "id": "942a4d56",
   "metadata": {},
   "outputs": [
    {
     "name": "stdout",
     "output_type": "stream",
     "text": [
      "56\n",
      "45\n",
      "78\n",
      "96\n"
     ]
    }
   ],
   "source": [
    "add(56,45,78,96)"
   ]
  },
  {
   "cell_type": "code",
   "execution_count": 16,
   "id": "96349e70",
   "metadata": {},
   "outputs": [],
   "source": [
    "def add3(*args):\n",
    "    s = 0\n",
    "    for i in args:\n",
    "        print(i)\n",
    "        s = s+i\n",
    "    return s\n"
   ]
  },
  {
   "cell_type": "code",
   "execution_count": 17,
   "id": "028dd68e",
   "metadata": {},
   "outputs": [
    {
     "name": "stdout",
     "output_type": "stream",
     "text": [
      "56\n",
      "51\n",
      "5\n",
      "12\n",
      "5\n",
      "129\n"
     ]
    }
   ],
   "source": [
    "s1 = add3(56,51,5,12,5)\n",
    "print(s1)"
   ]
  },
  {
   "cell_type": "code",
   "execution_count": 18,
   "id": "ac063a81",
   "metadata": {},
   "outputs": [
    {
     "name": "stdout",
     "output_type": "stream",
     "text": [
      "Welcome Raman. Product of given data is 5226\n"
     ]
    }
   ],
   "source": [
    "def multiply(x,*args):\n",
    "    \"\"\"\n",
    "    Inputs : X and multiple argumnets\n",
    "    Output : Returns a welcome statement along with product of given argumnets\n",
    "    \"\"\"\n",
    "    welcome = f\"Welcome {x}\"\n",
    "    p = 1\n",
    "    for i in args:\n",
    "        p = i*p\n",
    "    return f\"{welcome}. Product of given data is {p}\"\n",
    "m1 = multiply(\"Raman\",67,78)\n",
    "print(m1)"
   ]
  },
  {
   "cell_type": "markdown",
   "id": "1627784a",
   "metadata": {},
   "source": [
    "### I have employee data with me. Emp ids and empnames are stored in list . I want to update their department details , let's assume IT department"
   ]
  },
  {
   "cell_type": "code",
   "execution_count": 19,
   "id": "2dbd5861",
   "metadata": {},
   "outputs": [],
   "source": [
    "employee1 = [1,\"Raman\"]\n",
    "employee2 = [2,\"Karan\"]\n",
    "employee3 = [3,\"Taman\"]\n"
   ]
  },
  {
   "cell_type": "code",
   "execution_count": 20,
   "id": "7915bb9b",
   "metadata": {},
   "outputs": [],
   "source": [
    "def add_dept(*args):\n",
    "    for i in args:\n",
    "        i.append(\"IT\")"
   ]
  },
  {
   "cell_type": "code",
   "execution_count": 21,
   "id": "c0d359df",
   "metadata": {},
   "outputs": [],
   "source": [
    "add_dept(employee1,employee2,employee3)"
   ]
  },
  {
   "cell_type": "code",
   "execution_count": 22,
   "id": "2e13ef2b",
   "metadata": {},
   "outputs": [
    {
     "data": {
      "text/plain": [
       "[1, 'Raman', 'IT']"
      ]
     },
     "execution_count": 22,
     "metadata": {},
     "output_type": "execute_result"
    }
   ],
   "source": [
    "employee1"
   ]
  },
  {
   "cell_type": "code",
   "execution_count": 23,
   "id": "96533b40",
   "metadata": {},
   "outputs": [
    {
     "data": {
      "text/plain": [
       "[2, 'Karan', 'IT']"
      ]
     },
     "execution_count": 23,
     "metadata": {},
     "output_type": "execute_result"
    }
   ],
   "source": [
    "employee2"
   ]
  },
  {
   "cell_type": "code",
   "execution_count": 24,
   "id": "70f04c17",
   "metadata": {},
   "outputs": [
    {
     "data": {
      "text/plain": [
       "[3, 'Taman', 'IT']"
      ]
     },
     "execution_count": 24,
     "metadata": {},
     "output_type": "execute_result"
    }
   ],
   "source": [
    "employee3"
   ]
  },
  {
   "cell_type": "code",
   "execution_count": 25,
   "id": "1892c529",
   "metadata": {},
   "outputs": [
    {
     "data": {
      "text/plain": [
       "[1, 'Raman', 'IT']"
      ]
     },
     "execution_count": 25,
     "metadata": {},
     "output_type": "execute_result"
    }
   ],
   "source": [
    "employee1"
   ]
  },
  {
   "cell_type": "markdown",
   "id": "c31a7122",
   "metadata": {},
   "source": [
    "## Keywords arguments **kwargs"
   ]
  },
  {
   "cell_type": "code",
   "execution_count": 26,
   "id": "cdf378cf",
   "metadata": {},
   "outputs": [
    {
     "name": "stdout",
     "output_type": "stream",
     "text": [
      "56\n",
      "78\n"
     ]
    }
   ],
   "source": [
    "add(56,78)"
   ]
  },
  {
   "cell_type": "code",
   "execution_count": 27,
   "id": "3f748b63",
   "metadata": {},
   "outputs": [],
   "source": [
    "def func(**kwargs):\n",
    "    print(type(kwargs))\n",
    "    print(kwargs.items())"
   ]
  },
  {
   "cell_type": "code",
   "execution_count": 28,
   "id": "e2ea2652",
   "metadata": {},
   "outputs": [],
   "source": [
    "dct = {\n",
    "    \"emp\":101,\n",
    "    \"dept\":\"HR\"\n",
    "}"
   ]
  },
  {
   "cell_type": "code",
   "execution_count": 29,
   "id": "0270d374",
   "metadata": {},
   "outputs": [
    {
     "data": {
      "text/plain": [
       "dict"
      ]
     },
     "execution_count": 29,
     "metadata": {},
     "output_type": "execute_result"
    }
   ],
   "source": [
    "type(dct)"
   ]
  },
  {
   "cell_type": "code",
   "execution_count": 30,
   "id": "95bc3b5a",
   "metadata": {},
   "outputs": [
    {
     "data": {
      "text/plain": [
       "dict_items([('emp', 101), ('dept', 'HR')])"
      ]
     },
     "execution_count": 30,
     "metadata": {},
     "output_type": "execute_result"
    }
   ],
   "source": [
    "dct.items()"
   ]
  },
  {
   "cell_type": "code",
   "execution_count": 31,
   "id": "840ff6cc",
   "metadata": {},
   "outputs": [
    {
     "name": "stdout",
     "output_type": "stream",
     "text": [
      "<class 'dict'>\n",
      "dict_items([('id', 101), ('dept', 'HR')])\n"
     ]
    }
   ],
   "source": [
    "func(id=101,dept=\"HR\")"
   ]
  },
  {
   "cell_type": "code",
   "execution_count": 32,
   "id": "5f1006fb",
   "metadata": {},
   "outputs": [],
   "source": [
    "def func2(**kwargs):\n",
    "    print(kwargs.keys())\n",
    "    print(kwargs.values())"
   ]
  },
  {
   "cell_type": "code",
   "execution_count": 33,
   "id": "3c8def3b",
   "metadata": {},
   "outputs": [
    {
     "name": "stdout",
     "output_type": "stream",
     "text": [
      "dict_keys(['ids', 'dept'])\n",
      "dict_values([[101, 102, 103], ('HR', 'SALES', 'MKT')])\n"
     ]
    }
   ],
   "source": [
    "func2(ids=[101,102,103],dept=(\"HR\",\"SALES\",\"MKT\"))"
   ]
  },
  {
   "cell_type": "markdown",
   "id": "1bd781d3",
   "metadata": {},
   "source": [
    "### Write a function that returns the length of input items passed to it"
   ]
  },
  {
   "cell_type": "code",
   "execution_count": 34,
   "id": "29360987",
   "metadata": {},
   "outputs": [
    {
     "data": {
      "text/plain": [
       "[1, 'Raman', 'IT']"
      ]
     },
     "execution_count": 34,
     "metadata": {},
     "output_type": "execute_result"
    }
   ],
   "source": [
    "employee1\n"
   ]
  },
  {
   "cell_type": "code",
   "execution_count": 35,
   "id": "821c7fa3",
   "metadata": {},
   "outputs": [],
   "source": [
    "employee2.append(67000)"
   ]
  },
  {
   "cell_type": "code",
   "execution_count": 36,
   "id": "71b91702",
   "metadata": {},
   "outputs": [
    {
     "data": {
      "text/plain": [
       "[2, 'Karan', 'IT', 67000]"
      ]
     },
     "execution_count": 36,
     "metadata": {},
     "output_type": "execute_result"
    }
   ],
   "source": [
    "employee2\n"
   ]
  },
  {
   "cell_type": "code",
   "execution_count": 37,
   "id": "4ca1bec4",
   "metadata": {},
   "outputs": [],
   "source": [
    "employee3.append(78500)"
   ]
  },
  {
   "cell_type": "code",
   "execution_count": 38,
   "id": "958847ec",
   "metadata": {},
   "outputs": [],
   "source": [
    "employee3.append(True)"
   ]
  },
  {
   "cell_type": "code",
   "execution_count": 39,
   "id": "e2df65bc",
   "metadata": {},
   "outputs": [
    {
     "data": {
      "text/plain": [
       "[3, 'Taman', 'IT', 78500, True]"
      ]
     },
     "execution_count": 39,
     "metadata": {},
     "output_type": "execute_result"
    }
   ],
   "source": [
    "employee3"
   ]
  },
  {
   "cell_type": "code",
   "execution_count": 40,
   "id": "4c53db6e",
   "metadata": {},
   "outputs": [],
   "source": [
    "def len_data(**kwargs):\n",
    "    dct = {}\n",
    "    for key,l1 in kwargs.items():\n",
    "        dct[key] = len(l1)\n",
    "    return dct"
   ]
  },
  {
   "cell_type": "code",
   "execution_count": 41,
   "id": "6891be16",
   "metadata": {},
   "outputs": [
    {
     "data": {
      "text/plain": [
       "{'emp1': 3, 'emp2': 4, 'emp3': 5}"
      ]
     },
     "execution_count": 41,
     "metadata": {},
     "output_type": "execute_result"
    }
   ],
   "source": [
    "len_data(emp1=employee1,emp2=employee2,emp3=employee3)"
   ]
  },
  {
   "cell_type": "code",
   "execution_count": 45,
   "id": "cf48272d",
   "metadata": {},
   "outputs": [
    {
     "name": "stdout",
     "output_type": "stream",
     "text": [
      "{'John': 'B', 'Mary': 'F', 'Alex': 'Invalid Marks'}\n",
      "{'john': 'A', 'alkex': 'B', 'meg': 'F'}\n"
     ]
    }
   ],
   "source": [
    "def grade_student(**kwargs):\n",
    "    dct = {}\n",
    "    for name, marks in kwargs.items():\n",
    "        if marks < 35:\n",
    "            dct[name] = 'F'\n",
    "        elif marks <= 60:\n",
    "            dct[name] = 'B'\n",
    "        elif marks <= 100:  # assuming 0–100 is valid range\n",
    "            dct[name] = 'A'\n",
    "        else:\n",
    "            dct[name] = 'Invalid Marks'\n",
    "    return dct\n",
    "\n",
    "# Example usage\n",
    "result = grade_student(John=45, Mary=30, Alex=105)\n",
    "print(result)\n",
    "result1 = grade_student(john=95,alkex=55,meg=10)\n",
    "print(result1)"
   ]
  },
  {
   "cell_type": "code",
   "execution_count": null,
   "id": "b16a933f",
   "metadata": {},
   "outputs": [],
   "source": []
  }
 ],
 "metadata": {
  "kernelspec": {
   "display_name": "venv",
   "language": "python",
   "name": "python3"
  },
  "language_info": {
   "codemirror_mode": {
    "name": "ipython",
    "version": 3
   },
   "file_extension": ".py",
   "mimetype": "text/x-python",
   "name": "python",
   "nbconvert_exporter": "python",
   "pygments_lexer": "ipython3",
   "version": "3.12.0"
  }
 },
 "nbformat": 4,
 "nbformat_minor": 5
}
