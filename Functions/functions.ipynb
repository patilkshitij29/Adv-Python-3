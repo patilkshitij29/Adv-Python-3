{
 "cells": [
  {
   "cell_type": "markdown",
   "id": "260895a6",
   "metadata": {},
   "source": [
    "# Functions"
   ]
  },
  {
   "cell_type": "code",
   "execution_count": 1,
   "id": "af5bb55e",
   "metadata": {},
   "outputs": [],
   "source": [
    "def add(x,y):\n",
    "    \"\"\"\n",
    "    this function takes two parameters as inputs and returns addition of both parameters.\n",
    "    \"\"\"\n",
    "    c = x+y\n",
    "    return c"
   ]
  },
  {
   "cell_type": "code",
   "execution_count": 3,
   "id": "4263fef3",
   "metadata": {},
   "outputs": [
    {
     "data": {
      "text/plain": [
       "80"
      ]
     },
     "execution_count": 3,
     "metadata": {},
     "output_type": "execute_result"
    }
   ],
   "source": [
    "a1 = add(35,45)\n",
    "a1"
   ]
  },
  {
   "cell_type": "code",
   "execution_count": 4,
   "id": "219c6729",
   "metadata": {},
   "outputs": [
    {
     "data": {
      "text/plain": [
       "144"
      ]
     },
     "execution_count": 4,
     "metadata": {},
     "output_type": "execute_result"
    }
   ],
   "source": [
    "add(55,89)"
   ]
  },
  {
   "cell_type": "markdown",
   "id": "8d6dd8a1",
   "metadata": {},
   "source": [
    "## Variadic Functions"
   ]
  },
  {
   "cell_type": "code",
   "execution_count": 6,
   "id": "eb15199e",
   "metadata": {},
   "outputs": [],
   "source": [
    "def add(*args):\n",
    "    for i in args:\n",
    "        print(i)"
   ]
  },
  {
   "cell_type": "code",
   "execution_count": 7,
   "id": "942a4d56",
   "metadata": {},
   "outputs": [
    {
     "name": "stdout",
     "output_type": "stream",
     "text": [
      "56\n",
      "45\n",
      "78\n",
      "96\n"
     ]
    }
   ],
   "source": [
    "add(56,45,78,96)"
   ]
  },
  {
   "cell_type": "code",
   "execution_count": 9,
   "id": "96349e70",
   "metadata": {},
   "outputs": [],
   "source": [
    "def add3(*args):\n",
    "    s = 0\n",
    "    for i in args:\n",
    "        print(i)\n",
    "        s = s+i\n",
    "    return s\n"
   ]
  },
  {
   "cell_type": "code",
   "execution_count": 14,
   "id": "028dd68e",
   "metadata": {},
   "outputs": [
    {
     "name": "stdout",
     "output_type": "stream",
     "text": [
      "56\n",
      "51\n",
      "5\n",
      "12\n",
      "5\n",
      "129\n"
     ]
    }
   ],
   "source": [
    "s1 = add3(56,51,5,12,5)\n",
    "print(s1)"
   ]
  },
  {
   "cell_type": "code",
   "execution_count": 21,
   "id": "ac063a81",
   "metadata": {},
   "outputs": [
    {
     "name": "stdout",
     "output_type": "stream",
     "text": [
      "Welcome Raman. Product of given data is 5226\n"
     ]
    }
   ],
   "source": [
    "def multiply(x,*args):\n",
    "    \"\"\"\n",
    "    Inputs : X and multiple argumnets\n",
    "    Output : Returns a welcome statement along with product of given argumnets\n",
    "    \"\"\"\n",
    "    welcome = f\"Welcome {x}\"\n",
    "    p = 1\n",
    "    for i in args:\n",
    "        p = i*p\n",
    "    return f\"{welcome}. Product of given data is {p}\"\n",
    "m1 = multiply(\"Raman\",67,78)\n",
    "print(m1)"
   ]
  }
 ],
 "metadata": {
  "kernelspec": {
   "display_name": "venv",
   "language": "python",
   "name": "python3"
  },
  "language_info": {
   "codemirror_mode": {
    "name": "ipython",
    "version": 3
   },
   "file_extension": ".py",
   "mimetype": "text/x-python",
   "name": "python",
   "nbconvert_exporter": "python",
   "pygments_lexer": "ipython3",
   "version": "3.12.0"
  }
 },
 "nbformat": 4,
 "nbformat_minor": 5
}
